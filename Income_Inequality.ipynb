{
 "cells": [
  {
   "cell_type": "code",
   "execution_count": 0,
   "metadata": {},
   "outputs": [],
   "source": [
    "import matplotlib.pyplot as plt\n",
    "import pandas as pd\n"
   ]
  },
  {
   "cell_type": "code",
   "execution_count": 0,
   "metadata": {},
   "outputs": [],
   "source": [
    "#Read global list of countries and global income data from online data sets\n",
    "world_atlas = pd.read_csv('https://raw.githubusercontent.com/cs109/2014_data/master/countries.csv')\n",
    "global_income = pd.read_excel('https://docs.google.com/spreadsheet/pub?key=phAwcNAVuyj1jiMAkmq1iMg&output=xlsx')\n",
    "global_income = global_income.rename(index=str, columns={'GDP per capita': 'Country'})\n"
   ]
  },
  {
   "cell_type": "code",
   "execution_count": 0,
   "metadata": {},
   "outputs": [],
   "source": [
    "#By default, data is organized into columns by year\n",
    "#It may be useful to organize columns by country instead, which we can do by transposing the dataframe\n",
    "#global_income.set_index('GDP per capita', inplace=True)\n",
    "\n",
    "transposed_income = global_income.transpose()\n",
    "transposed_income.head()\n"
   ]
  },
  {
   "cell_type": "code",
   "execution_count": 0,
   "metadata": {},
   "outputs": [],
   "source": [
    "year = 2000\n",
    "plt.hist(global_income[2000], bins=50)\n",
    "plt.title('Global Income Distribution in {}'.format(year))\n",
    "plt.xlabel('GDP Per Capita')\n",
    "plt.ylabel('Number of Countries')\n"
   ]
  },
  {
   "cell_type": "code",
   "execution_count": 0,
   "metadata": {},
   "outputs": [],
   "source": [
    "def merge_by_year(year):\n",
    "    \"\"\"\n",
    "    Returns a merged data frame containing the income, \n",
    "    country name and region for a given year. \n",
    "\n",
    "    Args:\n",
    "        year (int): The year of interest\n",
    "\n",
    "    Returns:\n",
    "        income_by_region (data frame): A pandas DataFrame with three columns titled 'Country', 'Region', and 'GDP Per Capita'. \n",
    "    \"\"\"\n",
    "\n",
    "    income = pd.DataFrame(global_income[['Country', year]])\n",
    "    income = income.rename(index=int, columns={year: 'GDP Per Capita'})\n",
    "    joined = pd.merge(world_atlas, income, how='inner', on='Country')\n",
    "    return joined\n"
   ]
  },
  {
   "cell_type": "code",
   "execution_count": 0,
   "metadata": {},
   "outputs": [],
   "source": [
    "regions = world_atlas['Region'].unique()\n",
    "income_by_region = {region: None for region in regions}\n",
    "for year in range(2010,2015):\n",
    "    data_this_year = merge_by_year(year)\n",
    "    for region in regions:\n",
    "        filtered_by_region = data_this_year[data_this_year['Region'] == region]\n",
    "        income_by_region[region] = filtered_by_region['GDP Per Capita'].values\n",
    "\n",
    "        plt.hist(income_by_region[region])\n",
    "        plt.ylim(0,30)\n",
    "        plt.title('GDP Per Capita in {}'.format(region.title()))\n",
    "        plt.xlabel('GDP Per Capita')\n",
    "        plt.ylabel('Number of Countries')\n",
    "\n",
    "        plt.show()\n",
    "\n",
    "    fig, ax = plt.subplots()\n",
    "    ax.boxplot(income_by_region.values())\n",
    "    ax.set_xticklabels([s.title() for s in income_by_region.keys()])\n"
   ]
  },
  {
   "cell_type": "code",
   "execution_count": 0,
   "metadata": {},
   "outputs": [],
   "source": []
  }
 ],
 "metadata": {
  "file_extension": ".py",
  "kernelspec": {
   "display_name": "Python 3",
   "language": "python",
   "name": "python3"
  },
  "language_info": {
   "codemirror_mode": {
    "name": "ipython",
    "version": 3
   },
   "file_extension": ".py",
   "mimetype": "text/x-python",
   "name": "python",
   "nbconvert_exporter": "python",
   "pygments_lexer": "ipython3",
   "version": "3.7.1"
  },
  "mimetype": "text/x-python",
  "name": "python",
  "npconvert_exporter": "python",
  "pygments_lexer": "ipython3",
  "version": 3
 },
 "nbformat": 4,
 "nbformat_minor": 2
}
